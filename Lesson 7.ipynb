{
 "cells": [
  {
   "cell_type": "markdown",
   "metadata": {},
   "source": [
    "# Lesson 7： 闭包函数\n",
    "\n"
   ]
  },
  {
   "cell_type": "markdown",
   "metadata": {},
   "source": [
    "I. 函数嵌套\n",
    "\n",
    "1. 函数嵌套调用\n",
    "函数嵌套调用值得是在函数内部又调用了其他的函数"
   ]
  },
  {
   "cell_type": "code",
   "execution_count": 2,
   "metadata": {},
   "outputs": [
    {
     "name": "stdout",
     "output_type": "stream",
     "text": [
      "199\n"
     ]
    }
   ],
   "source": [
    "#求三个函数的最大值\n",
    "\n",
    "def max2(x,y):\n",
    "    if x>y:\n",
    "        return x\n",
    "    else:\n",
    "        return y\n",
    "    \n",
    "def max3(x,y,z):\n",
    "    res1=max2(x,y)\n",
    "    res2=max2(res1,z)\n",
    "    return res2\n",
    "\n",
    "print (max3(11,199,2))\n",
    "\n"
   ]
  },
  {
   "cell_type": "markdown",
   "metadata": {},
   "source": [
    "2. 函数嵌套定义\n",
    "函数嵌套定义值得是在函数内又定义了其他函数"
   ]
  },
  {
   "cell_type": "code",
   "execution_count": 4,
   "metadata": {},
   "outputs": [
    {
     "name": "stdout",
     "output_type": "stream",
     "text": [
      "from func1\n",
      "from func2\n",
      "None\n",
      "from func2\n"
     ]
    }
   ],
   "source": [
    "#Example 1\n",
    "\n",
    "def func1():\n",
    "    print('from func1')\n",
    "    \n",
    "    def func2():\n",
    "        print(\"from func2\")\n",
    "        \n",
    "    print (func2())\n",
    "    func2()\n",
    "    \n",
    "func1()\n",
    "#print(func2)\n"
   ]
  },
  {
   "cell_type": "code",
   "execution_count": 5,
   "metadata": {},
   "outputs": [
    {
     "name": "stdout",
     "output_type": "stream",
     "text": [
      "f1\n",
      "f2\n",
      "f3\n"
     ]
    }
   ],
   "source": [
    "#example 2\n",
    "#函数在定义阶段不执行函数内的代码\n",
    "\n",
    "def f1():\n",
    "    print('f1')\n",
    "    \n",
    "    def f2():\n",
    "        print('f2')\n",
    "        \n",
    "        def f3():\n",
    "            print('f3')\n",
    "            \n",
    "        f3()\n",
    "        \n",
    "    f2()\n",
    "    \n",
    "f1()"
   ]
  },
  {
   "cell_type": "markdown",
   "metadata": {},
   "source": [
    "II. 名称空间\n",
    "\n",
    "1.名称空间说明\n",
    "名称空间从字面意思来说是存放名字的地方\n",
    "\n",
    "2.名称空间分为三类\n",
    "    （1）内置名称空间\n",
    "    （2）全局名称空间\n",
    "    （3）局部名称空间  "
   ]
  },
  {
   "cell_type": "code",
   "execution_count": 6,
   "metadata": {},
   "outputs": [
    {
     "name": "stdout",
     "output_type": "stream",
     "text": [
      "<built-in function print>\n",
      "<built-in function len>\n"
     ]
    }
   ],
   "source": [
    "# 内置\n",
    "\n",
    "print(print)\n",
    "print(len)"
   ]
  },
  {
   "cell_type": "code",
   "execution_count": 9,
   "metadata": {},
   "outputs": [],
   "source": [
    "#全局\n",
    "\n",
    "x=1 \n",
    "\n",
    "def func(): #func是全局名称空间\n",
    "    name = 'Albert' #name是局部名称空间\n",
    "    \n",
    "#del func #我们不需要自己删除\n",
    "\n",
    "if 10 >3:\n",
    "    y = 2 #全局\n",
    "    \n",
    "while True:\n",
    "    z=5 #全局\n",
    "    break\n",
    "    \n"
   ]
  },
  {
   "cell_type": "code",
   "execution_count": 10,
   "metadata": {},
   "outputs": [],
   "source": [
    "#局部\n",
    "\n",
    "def func1(x):\n",
    "    x = 1\n",
    "    y = 2\n",
    "\n",
    "func1(1)"
   ]
  },
  {
   "cell_type": "code",
   "execution_count": 11,
   "metadata": {},
   "outputs": [
    {
     "name": "stdout",
     "output_type": "stream",
     "text": [
      "0\n"
     ]
    }
   ],
   "source": [
    "# 加载顺序很好理解，查找顺序是以当前位置为起始点的\n",
    "\n",
    "len = 0\n",
    "\n",
    "def f1():\n",
    "    # len = 1\n",
    "    \n",
    "    def f2():\n",
    "        #len = 2\n",
    "        print(len)\n",
    "        \n",
    "    #len = 3\n",
    "    f2()\n",
    "    \n",
    "f1()"
   ]
  },
  {
   "cell_type": "markdown",
   "metadata": {},
   "source": [
    "III. 作用域\n",
    "\n",
    "1.全局作用域\n",
    "    （1）在任何位置都能访问得到\n",
    "    （2）在该范围内的名字都会伴随程序整个生命周期"
   ]
  },
  {
   "cell_type": "code",
   "execution_count": 12,
   "metadata": {},
   "outputs": [
    {
     "name": "stdout",
     "output_type": "stream",
     "text": [
      "0\n",
      "1\n"
     ]
    }
   ],
   "source": [
    "global_count = 0\n",
    "\n",
    "def global_check():\n",
    "    print(global_count)\n",
    "    \n",
    "    \n",
    "def global_modify():\n",
    "    global global_count \n",
    "    global_count +=1\n",
    "    print(global_count)\n",
    "\n",
    "global_check()\n",
    "global_modify()\n"
   ]
  },
  {
   "cell_type": "markdown",
   "metadata": {},
   "source": [
    "2.局部作用域\n",
    "局部作用域包含的是局部空间的名字\n",
    "    （1）只能在函数内使用\n",
    "    （2）调用函数时生效，调用结束失败\n",
    "如果在局部使用是嵌套在函数内部的局部变量，同理，可以直接使用，而修函需要nonlocal关键字"
   ]
  },
  {
   "cell_type": "code",
   "execution_count": 13,
   "metadata": {},
   "outputs": [
    {
     "name": "stdout",
     "output_type": "stream",
     "text": [
      "0\n",
      "1\n"
     ]
    }
   ],
   "source": [
    "def make_counter():\n",
    "    count = 0\n",
    "    \n",
    "    def check_counter():\n",
    "        print(count)\n",
    "        \n",
    "    check_counter()\n",
    "    \n",
    "    def modify_counter():\n",
    "        nonlocal count\n",
    "        count += 1\n",
    "        print(count)\n",
    "        \n",
    "    modify_counter()\n",
    "    \n",
    "make_counter()"
   ]
  },
  {
   "cell_type": "markdown",
   "metadata": {},
   "source": [
    "IV. 函数对象\n",
    "\n",
    "1.函数对象说明"
   ]
  },
  {
   "cell_type": "code",
   "execution_count": 14,
   "metadata": {},
   "outputs": [
    {
     "name": "stdout",
     "output_type": "stream",
     "text": [
      "from bar\n"
     ]
    }
   ],
   "source": [
    "# 1 函数可以被吸引\n",
    "\n",
    "#int示例\n",
    "x = 1\n",
    "y = x\n",
    "\n",
    "#函数示例\n",
    "def bar():\n",
    "    print('from bar')\n",
    "\n",
    "f = bar\n",
    "f()"
   ]
  },
  {
   "cell_type": "code",
   "execution_count": 15,
   "metadata": {},
   "outputs": [
    {
     "name": "stdout",
     "output_type": "stream",
     "text": [
      "1\n"
     ]
    }
   ],
   "source": [
    "# 2 可以当中参数传入\n",
    "\n",
    "#int 示例\n",
    "\n",
    "x = 1\n",
    "\n",
    "def func(a):\n",
    "    print(a)\n",
    "    \n",
    "func(x)"
   ]
  },
  {
   "cell_type": "code",
   "execution_count": 16,
   "metadata": {},
   "outputs": [
    {
     "name": "stdout",
     "output_type": "stream",
     "text": [
      "from bar\n"
     ]
    }
   ],
   "source": [
    "# 函数示例\n",
    "\n",
    "def bar():\n",
    "    print('from bar')\n",
    "    \n",
    "def wrapper(func):\n",
    "    func()\n",
    "    \n",
    "wrapper(bar)\n"
   ]
  },
  {
   "cell_type": "code",
   "execution_count": 17,
   "metadata": {
    "scrolled": true
   },
   "outputs": [
    {
     "name": "stdout",
     "output_type": "stream",
     "text": [
      "1\n"
     ]
    }
   ],
   "source": [
    "#3 可以当中函数的返回值\n",
    "\n",
    "#int示例\n",
    "x = 1\n",
    "\n",
    "def foo():\n",
    "    return x\n",
    "\n",
    "res = foo()\n",
    "print(res)"
   ]
  },
  {
   "cell_type": "code",
   "execution_count": 19,
   "metadata": {},
   "outputs": [
    {
     "name": "stdout",
     "output_type": "stream",
     "text": [
      "from get\n"
     ]
    }
   ],
   "source": [
    "#函数示例\n",
    "def get():\n",
    "    print('from get')\n",
    "    \n",
    "def put():\n",
    "    print('from put')\n",
    "    \n",
    "l1 = [get,put]\n",
    "\n",
    "l1[0]()"
   ]
  },
  {
   "cell_type": "markdown",
   "metadata": {},
   "source": [
    "2.函数对象应用（重点）"
   ]
  },
  {
   "cell_type": "code",
   "execution_count": null,
   "metadata": {},
   "outputs": [
    {
     "name": "stdout",
     "output_type": "stream",
     "text": [
      "\n",
      "        1 登录\n",
      "        2 注册\n",
      "        3 查看\n",
      "        4 转账\n",
      "        5 支付\n",
      "        \n",
      ">>: 1\n",
      "登录。。。\n",
      "\n",
      "        1 登录\n",
      "        2 注册\n",
      "        3 查看\n",
      "        4 转账\n",
      "        5 支付\n",
      "        \n"
     ]
    }
   ],
   "source": [
    "def auth():\n",
    "    print('登录。。。')\n",
    "    \n",
    "def register():\n",
    "    print('注册。。。')\n",
    "    \n",
    "def check():\n",
    "    print('查看。。。')\n",
    "\n",
    "def transfer():\n",
    "    print('转账。。。')\n",
    "    \n",
    "def pay():\n",
    "    print('支付')\n",
    "    \n",
    "func_dict= {\n",
    "    '1':auth,\n",
    "    '2':register,\n",
    "    '3':check,\n",
    "    '4':transfer,\n",
    "    '5':pay\n",
    "}\n",
    "\n",
    "def interactive():\n",
    "    while True:\n",
    "        print(\"\"\"\n",
    "        1 登录\n",
    "        2 注册\n",
    "        3 查看\n",
    "        4 转账\n",
    "        5 支付\n",
    "        \"\"\")\n",
    "        choice = input('>>: ').strip()\n",
    "        if choice in func_dict:\n",
    "            func_dict[choice]()\n",
    "            \n",
    "        else:\n",
    "            print('非法操作')\n",
    " \n",
    "interactive()\n"
   ]
  },
  {
   "cell_type": "markdown",
   "metadata": {},
   "source": [
    "V. 闭包函数"
   ]
  },
  {
   "cell_type": "code",
   "execution_count": null,
   "metadata": {},
   "outputs": [],
   "source": [
    "def outer():\n",
    "    x = 1\n",
    "    def inner():\n",
    "        #x = 2\n",
    "        print('from inner',x)\n",
    "        \n",
    "    return inner\n",
    "\n",
    "f = outer()\n",
    "print(f)\n",
    "x = 3\n",
    "f()\n",
    "\n",
    "def foo():\n",
    "    x = 4 \n",
    "    f()\n",
    "    \n",
    "foo()"
   ]
  },
  {
   "cell_type": "markdown",
   "metadata": {},
   "source": [
    "闭包函数可以用外层函数来调用内部的函数，打破了函数的层级限制，与此同时该函数包含对外部函数作用域中名字的引用"
   ]
  },
  {
   "cell_type": "code",
   "execution_count": null,
   "metadata": {},
   "outputs": [],
   "source": [
    "def outer():\n",
    "    name = 'Albert'\n",
    "    \n",
    "    def inner():\n",
    "        print('My name is %s' % name)\n",
    "        \n",
    "    return inner \n",
    "\n",
    "f = outer()\n",
    "f()"
   ]
  },
  {
   "cell_type": "markdown",
   "metadata": {},
   "source": [
    "为函数体传值的两种方式\n",
    "（1）以参数的形式传入\n",
    "（2）以闭包函数的形式"
   ]
  },
  {
   "cell_type": "code",
   "execution_count": null,
   "metadata": {},
   "outputs": [],
   "source": [
    "VI. 装饰器\n"
   ]
  },
  {
   "cell_type": "markdown",
   "metadata": {},
   "source": [
    "(1)无参装饰器\n",
    "(2)有参装饰器"
   ]
  },
  {
   "cell_type": "code",
   "execution_count": null,
   "metadata": {},
   "outputs": [],
   "source": []
  }
 ],
 "metadata": {
  "kernelspec": {
   "display_name": "Python 3",
   "language": "python",
   "name": "python3"
  },
  "language_info": {
   "codemirror_mode": {
    "name": "ipython",
    "version": 3
   },
   "file_extension": ".py",
   "mimetype": "text/x-python",
   "name": "python",
   "nbconvert_exporter": "python",
   "pygments_lexer": "ipython3",
   "version": "3.7.3"
  }
 },
 "nbformat": 4,
 "nbformat_minor": 2
}
