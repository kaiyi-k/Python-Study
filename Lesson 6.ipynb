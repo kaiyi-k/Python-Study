{
 "cells": [
  {
   "cell_type": "code",
   "execution_count": null,
   "metadata": {},
   "outputs": [],
   "source": []
  },
  {
   "cell_type": "markdown",
   "metadata": {},
   "source": [
    "# 函数概述\n",
    "#### 具备某一功能的程序"
   ]
  },
  {
   "cell_type": "code",
   "execution_count": 12,
   "metadata": {},
   "outputs": [
    {
     "ename": "SyntaxError",
     "evalue": "invalid syntax (<ipython-input-12-930aedc017e8>, line 2)",
     "output_type": "error",
     "traceback": [
      "\u001b[1;36m  File \u001b[1;32m\"<ipython-input-12-930aedc017e8>\"\u001b[1;36m, line \u001b[1;32m2\u001b[0m\n\u001b[1;33m    def func1(x,y)\u001b[0m\n\u001b[1;37m                  ^\u001b[0m\n\u001b[1;31mSyntaxError\u001b[0m\u001b[1;31m:\u001b[0m invalid syntax\n"
     ]
    }
   ],
   "source": [
    "#这个函数的作用\n",
    "def func1(x,y)\n",
    "    ***\n",
    "    param x\n",
    "    param y\n",
    "    \n",
    "    ***\n",
    "    \n",
    "#returen 返回值"
   ]
  },
  {
   "cell_type": "code",
   "execution_count": 1,
   "metadata": {},
   "outputs": [
    {
     "name": "stdout",
     "output_type": "stream",
     "text": [
      "<function print_sym at 0x00000163736C4F28>\n",
      "##############################\n",
      "hello albert\n",
      "##############################\n"
     ]
    }
   ],
   "source": [
    " # 先定义\n",
    "def print_sym(sym, count):\n",
    "    print(sym*count)\n",
    "\n",
    "def print_msg(msg):\n",
    "    print (msg)\n",
    "    \n",
    "# 再调用\n",
    "print(print_sym) #函数对应一个内存地址\n",
    "print_sym('#',30)\n",
    "print_msg('hello albert')\n",
    "print_sym(\"#\",30)\n",
    "\n",
    "# 关于函数的参数 现在只需要知道定义的时候有几个参数 调用的时候就传入几个参数#\n",
    "\n"
   ]
  },
  {
   "cell_type": "code",
   "execution_count": 2,
   "metadata": {},
   "outputs": [
    {
     "name": "stdout",
     "output_type": "stream",
     "text": [
      "from foo\n",
      "from bar\n"
     ]
    }
   ],
   "source": [
    "#定义阶段\n",
    "def foo():\n",
    "    print ('from foo')\n",
    "    bar()\n",
    "    \n",
    "def bar():\n",
    "    print(\"from bar\")\n",
    "    \n",
    "#调用阶段\n",
    "\n",
    "foo()\n"
   ]
  },
  {
   "cell_type": "code",
   "execution_count": null,
   "metadata": {},
   "outputs": [],
   "source": [
    "# 定义函数的三种形式\n",
    "\n",
    "#1 有参函数\n",
    "def max2(x,y):\n",
    "    if x>y:\n",
    "        print(x)\n",
    "    else:\n",
    "        print(y)\n",
    "    \n",
    "max(100,101)\n",
    "\n",
    "\n",
    "#2 无参函数\n",
    "\n",
    "def func():\n",
    "    print('---------------')\n",
    "    print('---soft run----')\n",
    "    print('---------------')\n",
    "\n",
    "def interact():\n",
    "    name = input('username>>:  ').strip()\n",
    "    pwd = input('password>>: ').strip()\n",
    "    print(name,pwd)\n",
    "    \n",
    "interact() #定义时无参数\n",
    "func() #定义时无参数 意味着调用时无法传入参数\n",
    "\n",
    "#3 空函数\n",
    "\n",
    "def auth(username, password):\n",
    "    ***\n",
    "    定义功能\n",
    "    ***\n",
    "    \n",
    "def put():\n",
    "    ***\n",
    "    定义功能\n",
    "    ***\n",
    "    \n",
    "\n",
    "\n"
   ]
  },
  {
   "cell_type": "code",
   "execution_count": 3,
   "metadata": {},
   "outputs": [
    {
     "name": "stdout",
     "output_type": "stream",
     "text": [
      "free func\n",
      "10\n",
      "1000\n",
      "11\n"
     ]
    }
   ],
   "source": [
    "# 调用函数的三种形式\n",
    "\n",
    "#1 基本的调用\n",
    "def func():\n",
    "    print(\"free func\")\n",
    "    \n",
    "func()\n",
    "\n",
    "#2 调用时把返回值传给变量\n",
    "\n",
    "def max2 (x,y):\n",
    "    if x>y:\n",
    "        return x\n",
    "    else:\n",
    "        return y\n",
    "\n",
    "res = max2(10,3)\n",
    "print(res)\n",
    "res = max2(10,3)*100\n",
    "print (res)\n",
    "\n",
    "#3 把返回结果在当参数传入\n",
    "\n",
    "res = max(max2(10,3),11)\n",
    "print (res)\n"
   ]
  },
  {
   "cell_type": "code",
   "execution_count": 14,
   "metadata": {},
   "outputs": [
    {
     "name": "stdout",
     "output_type": "stream",
     "text": [
      "abc\n",
      "None\n",
      "1\n",
      "(1, 2, {1, 2, 3})\n"
     ]
    }
   ],
   "source": [
    "# 函数返回值的三种形式 根据函数逻辑决定是否有返回值\n",
    "\n",
    "#1 没有return 或者return什么都不屑 返回值none\n",
    "def func (x,y):\n",
    "    print ('abc')\n",
    " \n",
    "\n",
    "res = func(1,2)\n",
    "print(res)\n",
    "\n",
    "#2 return一个数值 \n",
    "def func2 ():\n",
    "    return 1\n",
    "\n",
    "res2 = func2()\n",
    "print(res2)\n",
    "\n",
    "#3 return多个数值\n",
    "def func3():\n",
    "    return 1, 2, {1,2,3}\n",
    "\n",
    "res3 = func3()\n",
    "print(res3)"
   ]
  },
  {
   "cell_type": "markdown",
   "metadata": {},
   "source": [
    "1. retur 返回值没有类型限制\n",
    "2. retur是函数结束的状态，函数内可以有多个return 但是执行一次函数立刻结束 并把return后的值作为函数调用的返回值"
   ]
  },
  {
   "cell_type": "code",
   "execution_count": null,
   "metadata": {},
   "outputs": [],
   "source": [
    "#函数的参数\n",
    "#1 形参与实参\n",
    "\n",
    "def func (x,y):\n",
    "    print(x)\n",
    "    print(y)\n",
    "    \n",
    "# x,y是实参\n",
    "\n"
   ]
  },
  {
   "cell_type": "code",
   "execution_count": 16,
   "metadata": {},
   "outputs": [
    {
     "name": "stdout",
     "output_type": "stream",
     "text": [
      "1 3 2\n"
     ]
    }
   ],
   "source": [
    "#有参函数的五种传参方式\n",
    "\n",
    "#位置参数\n",
    "def fee(x,y,z):\n",
    "    print(x,y,z)\n",
    "\n",
    "#报错fee(1,2)\n",
    "#报错fee(1,2,3,4)\n",
    "fee(1,3,2)"
   ]
  },
  {
   "cell_type": "code",
   "execution_count": 17,
   "metadata": {},
   "outputs": [
    {
     "name": "stdout",
     "output_type": "stream",
     "text": [
      "1 2 3\n"
     ]
    }
   ],
   "source": [
    "#关键字参数\n",
    "\n",
    "def fee(x,y,z):\n",
    "    print(x,y,z)\n",
    "\n",
    "fee(1, z=3, y=2)"
   ]
  },
  {
   "cell_type": "code",
   "execution_count": 22,
   "metadata": {},
   "outputs": [
    {
     "name": "stdout",
     "output_type": "stream",
     "text": [
      "Albert 18 male\n",
      "James 20 male\n",
      "丽 19 female\n",
      "1 10\n",
      "1 11\n"
     ]
    }
   ],
   "source": [
    "#默认参数\n",
    "\n",
    "def register (name, age, sex = 'male'):\n",
    "    print(name,age,sex)\n",
    "    \n",
    "register ('Albert',18)\n",
    "register ('James',20)\n",
    "register ('丽',19,'female')\n",
    "\n",
    "\n",
    "\n",
    "#2 位置形参必须在默认参数的前面\n",
    "#def func(y=1,x) 报错\n",
    "\n"
   ]
  },
  {
   "cell_type": "code",
   "execution_count": 23,
   "metadata": {},
   "outputs": [
    {
     "name": "stdout",
     "output_type": "stream",
     "text": [
      "1 10\n",
      "1 11\n"
     ]
    }
   ],
   "source": [
    "#3 默认参数的值只在定义阶段赋值一次，也就是说默认参数的值在定义阶段就固定死了\n",
    "\n",
    "n=10 \n",
    "def fee(x, y=n):\n",
    "    print (x,y)\n",
    "\n",
    "n = 'a'\n",
    "fee(1)\n",
    "fee(1,11)\n"
   ]
  },
  {
   "cell_type": "code",
   "execution_count": 28,
   "metadata": {},
   "outputs": [
    {
     "name": "stdout",
     "output_type": "stream",
     "text": [
      "1 2 3\n",
      "(4, 5, 6, 7, 8)\n",
      "1 2 3\n",
      "{'a': 1, 'b': 2, 'c': 3}\n"
     ]
    }
   ],
   "source": [
    "#可变长参数\n",
    "def fee(x,y,z, *args):\n",
    "    print (x,y,z)\n",
    "    print(args)\n",
    "    \n",
    "fee (1,2,3,4,5,6,7,8)\n",
    "\n",
    "def fee1(x,y,z, **kwargs):\n",
    "    print(x,y,z)\n",
    "    print(kwargs)\n",
    "    \n",
    "fee1(x =1, y = 2, z = 3, a = 1, b = 2, c = 3)\n",
    "\n"
   ]
  },
  {
   "cell_type": "code",
   "execution_count": 43,
   "metadata": {},
   "outputs": [
    {
     "name": "stdout",
     "output_type": "stream",
     "text": [
      "1 2 3\n",
      "(4, 5, 6, 7, 8)\n",
      "1 2 3\n",
      "(4, 5, 6, 7, 8)\n",
      "1 2 3\n",
      "('h', 'e', 'l', 'l', 'o')\n",
      "1 2 3\n",
      "{'a': 1, 'b': 2}\n",
      "Albert\n",
      "123\n",
      "{}\n",
      "Albert\n",
      "123\n",
      "{'groups': 'group1'}\n"
     ]
    }
   ],
   "source": [
    "# *与** \n",
    "\n",
    "#*的作用是打散\n",
    "def foo (x,y,z, *args): \n",
    "    print(x,y,z)\n",
    "    print(args)\n",
    "\n",
    "foo(1,2,3,*[4,5,6,7,8])\n",
    "foo(1,2,3,*[4,5,6,7,8])\n",
    "foo(1,2,3, *'hello')\n",
    "\n",
    "#报错 def foo(x,y,z):\n",
    "#        print (x,y,z)\n",
    "#foo(1,2,3,4)\n",
    "#foo(1,2,3)\n",
    "\n",
    "#一旦碰到实参加** 就把该实参的值打散\n",
    "\n",
    "def bar(x,y,z, **kwargs):\n",
    "    print(x,y,z)\n",
    "    print(kwargs)\n",
    "\n",
    "bar(1,2,3, **{'a': 1, 'b': 2})\n",
    "\n",
    "#*的场景应用\n",
    "\n",
    "def auth(name,pwd,**kwargs):\n",
    "    print(name)\n",
    "    print(pwd)\n",
    "    print(kwargs)\n",
    "    \n",
    "auth(name=\"Albert\",pwd = '123')\n",
    "auth(name=\"Albert\",pwd='123',groups = \"group1\")"
   ]
  },
  {
   "cell_type": "code",
   "execution_count": 46,
   "metadata": {},
   "outputs": [
    {
     "name": "stdout",
     "output_type": "stream",
     "text": [
      "Welcome ('Albert', 19, 'male')\n"
     ]
    }
   ],
   "source": [
    "#组合使用\n",
    "\n",
    "def index(name,age,gender):\n",
    "    print('Welcome',  (name, age, gender))\n",
    "\n",
    "def wrapper(*args, **kwargs):\n",
    "    index(*args, **kwargs)\n",
    "\n",
    "wrapper(name='Albert', age=19, gender = 'male')"
   ]
  },
  {
   "cell_type": "code",
   "execution_count": 49,
   "metadata": {},
   "outputs": [
    {
     "name": "stdout",
     "output_type": "stream",
     "text": [
      "Help on function auth in module __main__:\n",
      "\n",
      "auth(*args, **kwargs)\n",
      "\n",
      "None\n",
      "Albert 123\n"
     ]
    }
   ],
   "source": [
    "#命名关键词参数\n",
    "\n",
    "def auth(*args, **kwargs):\n",
    "    if len(args) != 0:\n",
    "        return \n",
    "    if 'name' not in kwargs:\n",
    "        return \n",
    "    if 'pwd' not in kwargs:\n",
    "        return \n",
    "    name = kwargs['name']\n",
    "    pwd = kwargs ['pwd']\n",
    "    print(name,pwd)\n",
    "    \n",
    "print(help(auth)) #打印文档注释\n",
    "\n",
    "auth(x='Albert', y='123')\n",
    "auth('Albert', pwd = '123')\n",
    "auth('albert','123')\n",
    "auth(name = 'Albert', pwd='123')"
   ]
  }
 ],
 "metadata": {
  "kernelspec": {
   "display_name": "Python 3",
   "language": "python",
   "name": "python3"
  },
  "language_info": {
   "codemirror_mode": {
    "name": "ipython",
    "version": 3
   },
   "file_extension": ".py",
   "mimetype": "text/x-python",
   "name": "python",
   "nbconvert_exporter": "python",
   "pygments_lexer": "ipython3",
   "version": "3.7.3"
  }
 },
 "nbformat": 4,
 "nbformat_minor": 2
}
